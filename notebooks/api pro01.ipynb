{
 "cells": [
  {
   "cell_type": "code",
   "execution_count": 1,
   "id": "b222da2d",
   "metadata": {},
   "outputs": [],
   "source": [
    "import requests\n",
    "import pandas as pd\n",
    "import matplotlib.pyplot as plt\n",
    "\n",
    "%matplotlib inline"
   ]
  },
  {
   "cell_type": "code",
   "execution_count": 8,
   "id": "8f83be77",
   "metadata": {},
   "outputs": [],
   "source": [
    "endpoint = 'https://data.nashville.gov/resource/fuaa-r5cm.json?$select= month_name,sum(query_count)&$group=month_name, year=2016'"
   ]
  },
  {
   "cell_type": "code",
   "execution_count": 9,
   "id": "ab7d9cf3",
   "metadata": {},
   "outputs": [],
   "source": [
    "response = requests.get(endpoint)"
   ]
  },
  {
   "cell_type": "code",
   "execution_count": 10,
   "id": "94742b40",
   "metadata": {},
   "outputs": [
    {
     "data": {
      "text/plain": [
       "<Response [200]>"
      ]
     },
     "execution_count": 10,
     "metadata": {},
     "output_type": "execute_result"
    }
   ],
   "source": [
    "response"
   ]
  },
  {
   "cell_type": "code",
   "execution_count": 11,
   "id": "90a50207",
   "metadata": {},
   "outputs": [
    {
     "data": {
      "text/plain": [
       "'[{\"month_name\":\"February\",\"sum_query_count\":\"8165\"}\\n,{\"month_name\":\"August\",\"sum_query_count\":\"81088\"}\\n,{\"month_name\":\"April\",\"sum_query_count\":\"8767\"}\\n,{\"month_name\":\"January\",\"sum_query_count\":\"86906\"}\\n,{\"month_name\":\"June\",\"sum_query_count\":\"7781\"}\\n,{\"month_name\":\"March\",\"sum_query_count\":\"87872\"}\\n,{\"month_name\":\"July\",\"sum_query_count\":\"7850\"}\\n,{\"month_name\":\"February\",\"sum_query_count\":\"69628\"}\\n,{\"month_name\":\"January\",\"sum_query_count\":\"7831\"}\\n,{\"month_name\":\"May\",\"sum_query_count\":\"7792\"}\\n,{\"month_name\":\"April\",\"sum_query_count\":\"93850\"}\\n,{\"month_name\":\"December\",\"sum_query_count\":\"55229\"}\\n,{\"month_name\":\"June\",\"sum_query_count\":\"92685\"}\\n,{\"month_name\":\"November\",\"sum_query_count\":\"70434\"}\\n,{\"month_name\":\"December\",\"sum_query_count\":\"6913\"}\\n,{\"month_name\":\"October\",\"sum_query_count\":\"79982\"}\\n,{\"month_name\":\"August\",\"sum_query_count\":\"8082\"}\\n,{\"month_name\":\"November\",\"sum_query_count\":\"7240\"}\\n,{\"month_name\":\"July\",\"sum_query_count\":\"94686\"}\\n,{\"month_name\":\"May\",\"sum_query_count\":\"91680\"}\\n,{\"month_name\":\"March\",\"sum_query_count\":\"8040\"}\\n,{\"month_name\":\"September\",\"sum_query_count\":\"86856\"}\\n,{\"month_name\":\"October\",\"sum_query_count\":\"8308\"}\\n,{\"month_name\":\"September\",\"sum_query_count\":\"8364\"}]\\n'"
      ]
     },
     "execution_count": 11,
     "metadata": {},
     "output_type": "execute_result"
    }
   ],
   "source": [
    "response.text"
   ]
  },
  {
   "cell_type": "code",
   "execution_count": 12,
   "id": "c32480de",
   "metadata": {},
   "outputs": [
    {
     "data": {
      "text/plain": [
       "[{'month_name': 'February', 'sum_query_count': '8165'},\n",
       " {'month_name': 'August', 'sum_query_count': '81088'},\n",
       " {'month_name': 'April', 'sum_query_count': '8767'},\n",
       " {'month_name': 'January', 'sum_query_count': '86906'},\n",
       " {'month_name': 'June', 'sum_query_count': '7781'},\n",
       " {'month_name': 'March', 'sum_query_count': '87872'},\n",
       " {'month_name': 'July', 'sum_query_count': '7850'},\n",
       " {'month_name': 'February', 'sum_query_count': '69628'},\n",
       " {'month_name': 'January', 'sum_query_count': '7831'},\n",
       " {'month_name': 'May', 'sum_query_count': '7792'},\n",
       " {'month_name': 'April', 'sum_query_count': '93850'},\n",
       " {'month_name': 'December', 'sum_query_count': '55229'},\n",
       " {'month_name': 'June', 'sum_query_count': '92685'},\n",
       " {'month_name': 'November', 'sum_query_count': '70434'},\n",
       " {'month_name': 'December', 'sum_query_count': '6913'},\n",
       " {'month_name': 'October', 'sum_query_count': '79982'},\n",
       " {'month_name': 'August', 'sum_query_count': '8082'},\n",
       " {'month_name': 'November', 'sum_query_count': '7240'},\n",
       " {'month_name': 'July', 'sum_query_count': '94686'},\n",
       " {'month_name': 'May', 'sum_query_count': '91680'},\n",
       " {'month_name': 'March', 'sum_query_count': '8040'},\n",
       " {'month_name': 'September', 'sum_query_count': '86856'},\n",
       " {'month_name': 'October', 'sum_query_count': '8308'},\n",
       " {'month_name': 'September', 'sum_query_count': '8364'}]"
      ]
     },
     "execution_count": 12,
     "metadata": {},
     "output_type": "execute_result"
    }
   ],
   "source": [
    "result = response.json()\n",
    "result"
   ]
  },
  {
   "cell_type": "code",
   "execution_count": 24,
   "id": "3a59cd61",
   "metadata": {},
   "outputs": [],
   "source": [
    "endpoint = 'https://data.nashville.gov/resource/fuaa-r5cm.json?$select=month_name,count(query_count)&$group=month_name'"
   ]
  },
  {
   "cell_type": "code",
   "execution_count": 20,
   "id": "5d3b0fc6",
   "metadata": {},
   "outputs": [],
   "source": [
    "response = requests.get(endpoint)"
   ]
  },
  {
   "cell_type": "code",
   "execution_count": 25,
   "id": "8ed86c8a",
   "metadata": {},
   "outputs": [
    {
     "data": {
      "text/plain": [
       "<Response [200]>"
      ]
     },
     "execution_count": 25,
     "metadata": {},
     "output_type": "execute_result"
    }
   ],
   "source": [
    "response"
   ]
  },
  {
   "cell_type": "code",
   "execution_count": 22,
   "id": "efc5ec30",
   "metadata": {},
   "outputs": [
    {
     "data": {
      "text/plain": [
       "[{'month_name': 'February', 'count_query_count': '500'},\n",
       " {'month_name': 'August', 'count_query_count': '3000'},\n",
       " {'month_name': 'April', 'count_query_count': '500'},\n",
       " {'month_name': 'January', 'count_query_count': '3500'},\n",
       " {'month_name': 'June', 'count_query_count': '500'},\n",
       " {'month_name': 'March', 'count_query_count': '3000'},\n",
       " {'month_name': 'July', 'count_query_count': '500'},\n",
       " {'month_name': 'February', 'count_query_count': '3000'},\n",
       " {'month_name': 'January', 'count_query_count': '500'},\n",
       " {'month_name': 'May', 'count_query_count': '500'},\n",
       " {'month_name': 'April', 'count_query_count': '3500'},\n",
       " {'month_name': 'December', 'count_query_count': '2500'},\n",
       " {'month_name': 'June', 'count_query_count': '3500'},\n",
       " {'month_name': 'November', 'count_query_count': '3000'},\n",
       " {'month_name': 'December', 'count_query_count': '500'},\n",
       " {'month_name': 'October', 'count_query_count': '2676'},\n",
       " {'month_name': 'August', 'count_query_count': '500'},\n",
       " {'month_name': 'November', 'count_query_count': '500'},\n",
       " {'month_name': 'July', 'count_query_count': '3500'},\n",
       " {'month_name': 'May', 'count_query_count': '3500'},\n",
       " {'month_name': 'March', 'count_query_count': '500'},\n",
       " {'month_name': 'September', 'count_query_count': '3000'},\n",
       " {'month_name': 'October', 'count_query_count': '500'},\n",
       " {'month_name': 'September', 'count_query_count': '500'}]"
      ]
     },
     "execution_count": 22,
     "metadata": {},
     "output_type": "execute_result"
    }
   ],
   "source": [
    "result = response.json()\n",
    "result"
   ]
  },
  {
   "cell_type": "code",
   "execution_count": 23,
   "id": "7aa9e9d3",
   "metadata": {},
   "outputs": [
    {
     "ename": "TypeError",
     "evalue": "int() argument must be a string, a bytes-like object or a number, not 'NoneType'",
     "output_type": "error",
     "traceback": [
      "\u001b[1;31m---------------------------------------------------------------------------\u001b[0m",
      "\u001b[1;31mTypeError\u001b[0m                                 Traceback (most recent call last)",
      "Input \u001b[1;32mIn [23]\u001b[0m, in \u001b[0;36m<cell line: 2>\u001b[1;34m()\u001b[0m\n\u001b[0;32m      1\u001b[0m search_dict \u001b[38;5;241m=\u001b[39m {}\n\u001b[0;32m      2\u001b[0m \u001b[38;5;28;01mfor\u001b[39;00m month \u001b[38;5;129;01min\u001b[39;00m result:\n\u001b[1;32m----> 3\u001b[0m     count \u001b[38;5;241m=\u001b[39m \u001b[38;5;28;43mint\u001b[39;49m\u001b[43m(\u001b[49m\u001b[43mmonth\u001b[49m\u001b[38;5;241;43m.\u001b[39;49m\u001b[43mget\u001b[49m\u001b[43m(\u001b[49m\u001b[38;5;124;43m'\u001b[39;49m\u001b[38;5;124;43mquery_count\u001b[39;49m\u001b[38;5;124;43m'\u001b[39;49m\u001b[43m)\u001b[49m\u001b[43m)\u001b[49m\n",
      "\u001b[1;31mTypeError\u001b[0m: int() argument must be a string, a bytes-like object or a number, not 'NoneType'"
     ]
    }
   ],
   "source": [
    "search_dict = {}\n",
    "for month in result:\n",
    "    count = int(month.get('query_count'))\n"
   ]
  },
  {
   "cell_type": "code",
   "execution_count": null,
   "id": "3e080bad",
   "metadata": {},
   "outputs": [],
   "source": []
  },
  {
   "cell_type": "code",
   "execution_count": null,
   "id": "cce04062",
   "metadata": {},
   "outputs": [],
   "source": []
  },
  {
   "cell_type": "code",
   "execution_count": null,
   "id": "269b2cd9",
   "metadata": {},
   "outputs": [],
   "source": []
  }
 ],
 "metadata": {
  "kernelspec": {
   "display_name": "Python 3 (ipykernel)",
   "language": "python",
   "name": "python3"
  },
  "language_info": {
   "codemirror_mode": {
    "name": "ipython",
    "version": 3
   },
   "file_extension": ".py",
   "mimetype": "text/x-python",
   "name": "python",
   "nbconvert_exporter": "python",
   "pygments_lexer": "ipython3",
   "version": "3.9.12"
  }
 },
 "nbformat": 4,
 "nbformat_minor": 5
}
